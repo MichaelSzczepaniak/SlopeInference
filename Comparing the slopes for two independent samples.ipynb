{
 "cells": [
  {
   "cell_type": "markdown",
   "metadata": {},
   "source": [
    "This anlysis is taken from:  \n",
    "http://www.real-statistics.com/regression/hypothesis-testing-significance-regression-line-slope/comparing-slopes-two-independent-samples/\n",
    "\n",
    "### Motivation\n",
    "This notebook is being created to get some practice with comparing the significance in the difference between the slopes of two regression lines.  The reference above was done in Excel.\n",
    "\n",
    "### Problem Statement and Definitions\n",
    "Start with two sets of data: logevity vs. number of cigarettes per day for two populations, one for men and one for women.  \n",
    "\n",
    "The test statistic is:  \n",
    "\\begin{align*}\n",
    "t = \\frac{w_{1, men} - w_{1, women}}{\\sqrt{s_{w_{1, men}}^2 + s_{w_{1, women}}^2}}\n",
    "\\end{align*}\n",
    "\n",
    "Let's start with a quick plot."
   ]
  },
  {
   "cell_type": "code",
   "execution_count": 50,
   "metadata": {
    "collapsed": false
   },
   "outputs": [
    {
     "data": {
      "text/plain": [
       "[<matplotlib.lines.Line2D at 0xbfea860>]"
      ]
     },
     "execution_count": 50,
     "metadata": {},
     "output_type": "execute_result"
    },
    {
     "data": {
      "image/png": "[encoded data removed]",
      "text/plain": [
       "<matplotlib.figure.Figure at 0xb9fd748>"
      ]
     },
     "metadata": {},
     "output_type": "display_data"
    }
   ],
   "source": [
    "import pandas as pd, numpy as np, matplotlib.pyplot as plt\n",
    "from matplotlib import style\n",
    "%matplotlib inline\n",
    "\n",
    "# make analysis repeatable by referencing data available online\n",
    "men_data = pd.read_csv('https://raw.githubusercontent.com/MichaelSzczepaniak/SlopeInference/master/men_cig_life_exp.csv')\n",
    "women_data = pd.read_csv('https://raw.githubusercontent.com/MichaelSzczepaniak/SlopeInference/master/women_cig_life_exp.csv')\n",
    "\n",
    "\n",
    "fig = plt.figure(1, figsize=(12, 6))\n",
    "\n",
    "ax1 = plt.subplot2grid((1,2), (0,0), rowspan=1, colspan=1)\n",
    "ax2 = plt.subplot2grid((1,2), (0,1), rowspan=1, colspan=1, sharey=ax1)\n",
    "\n",
    "ax1.set_title('Men')\n",
    "ax2.set_title('Women')\n",
    "\n",
    "ax1.set_xlim(0, 60); ax2.set_xlim(0, 60)\n",
    "ax1.set_ylim(50, 100); ax2.set_ylim(50, 100)\n",
    "ax1.set_ylabel('longevity (years)')\n",
    "\n",
    "ax1.plot(men_data['cig_x'], men_data['life_exp'], 'bs')\n",
    "ax2.plot(women_data['cig_x'], women_data['life_exp'], 'ro')"
   ]
  },
  {
   "cell_type": "markdown",
   "metadata": {},
   "source": [
    "Looks like it trends down with increasing number of cigarettes per day. Let's add some regression lines to see this more clearly."
   ]
  },
  {
   "cell_type": "code",
   "execution_count": 51,
   "metadata": {
    "collapsed": true
   },
   "outputs": [],
   "source": [
    "def trainLinear(X, T):\n",
    "    \"\"\" Returns a (D+1, k) column vector of weights for the linear regression of\n",
    "    T vs. X.  Parameters:\n",
    "    X is a n by D matrix of features, n = number of samples, D = dimensions (feature count)\n",
    "    T is a n by k matrix of targets, n = number of samples, k = number of targets\n",
    "    \"\"\"\n",
    "    X1 = np.hstack((np.ones((len(X), 1)), X))  # N x 1 vector of 1's hstack with X\n",
    "    w = np.linalg.lstsq(np.dot(X1.T,X1), np.dot(X1.T, T))\n",
    "    \n",
    "    return w[0]\n",
    "\n",
    "def useLinear(x, w, transpose_weights=False):\n",
    "    \"\"\" Returns a (n, k) matrix of linear regression targets.  Where\n",
    "    x is a n by D matrix of features, n = number of samples, D = dimensions (feature count)\n",
    "    w is a (D+1, k) matrix of weights\n",
    "    \"\"\"\n",
    "    x1 = np.hstack((np.ones((len(x), 1)), x))  # N x 1 vector of 1's hstack with X\n",
    "    if(transpose_weights):\n",
    "        return np.dot(x1, w.T)\n",
    "    else:\n",
    "        return np.dot(x1, w)"
   ]
  },
  {
   "cell_type": "code",
   "execution_count": 52,
   "metadata": {
    "collapsed": false
   },
   "outputs": [
    {
     "data": {
      "text/plain": [
       "(array([[ 85.72042119],\n",
       "        [ -0.62820041]]), array([[ 87.18576268],\n",
       "        [ -0.46785962]]))"
      ]
     },
     "execution_count": 52,
     "metadata": {},
     "output_type": "execute_result"
    }
   ],
   "source": [
    "# Compute the weights for the regression lines\n",
    "X_men = np.array(men_data['cig_x'])[:, np.newaxis]  # need the np.newaxix to make this (n, 1) col vector\n",
    "T_men = np.array(men_data['life_exp'])[:, np.newaxis]\n",
    "X_women = np.array(women_data['cig_x'])[:, np.newaxis]\n",
    "T_women = np.array(women_data['life_exp'])[:, np.newaxis]\n",
    "w_men = trainLinear(X_men, T_men)\n",
    "w_women = trainLinear(X_women, T_women)\n",
    "w_men, w_women  # slopes match http://i1.wp.com/www.real-statistics.com/wp-content/uploads/2012/12/Comparing-regression-line-slopes.png"
   ]
  },
  {
   "cell_type": "code",
   "execution_count": 53,
   "metadata": {
    "collapsed": false
   },
   "outputs": [],
   "source": [
    "# get the unique x values from original data compute prediction and sort\n",
    "X_men = np.sort(np.unique(X_men), 0)[:, np.newaxis]\n",
    "X_women = np.sort(np.unique(X_women), 0)[:, np.newaxis]\n",
    "# compute predicted targets\n",
    "T_men = useLinear(X_men, w_men)\n",
    "T_women = useLinear(X_women, w_women)"
   ]
  },
  {
   "cell_type": "code",
   "execution_count": 54,
   "metadata": {
    "collapsed": false
   },
   "outputs": [
    {
     "data": {
      "text/plain": [
       "[<matplotlib.lines.Line2D at 0xc0542e8>]"
      ]
     },
     "execution_count": 54,
     "metadata": {},
     "output_type": "execute_result"
    },
    {
     "data": {
      "image/png": "[encoded data removed]",
      "text/plain": [
       "<matplotlib.figure.Figure at 0xbde1da0>"
      ]
     },
     "metadata": {},
     "output_type": "display_data"
    }
   ],
   "source": [
    "fig = plt.figure(1, figsize=(12, 6))\n",
    "ax1 = plt.subplot2grid((1,2), (0,0), rowspan=1, colspan=1)\n",
    "ax2 = plt.subplot2grid((1,2), (0,1), rowspan=1, colspan=1, sharey=ax1)\n",
    "\n",
    "ax1.set_title('Men')\n",
    "ax2.set_title('Women')\n",
    "\n",
    "ax1.set_xlim(0, 60); ax2.set_xlim(0, 60)\n",
    "ax1.set_ylim(50, 100); ax2.set_ylim(50, 100)\n",
    "ax1.set_ylabel('longevity (years)')\n",
    "ax1.set_xlabel('cigarettes per day')\n",
    "\n",
    "ax1.plot(men_data['cig_x'], men_data['life_exp'], 'bs')\n",
    "ax1.plot(X_men, T_men, 'b')\n",
    "ax2.plot(women_data['cig_x'], women_data['life_exp'], 'ro')\n",
    "ax2.plot(X_women, T_women, 'r')"
   ]
  },
  {
   "cell_type": "markdown",
   "metadata": {},
   "source": [
    "Slopes look different enough to suggest women may be more imune to the impact of cigarettes than men, but we need to do the proper statistical test on these values to see if this is really true or not."
   ]
  },
  {
   "cell_type": "code",
   "execution_count": null,
   "metadata": {
    "collapsed": true
   },
   "outputs": [],
   "source": []
  },
  {
   "cell_type": "code",
   "execution_count": null,
   "metadata": {
    "collapsed": true
   },
   "outputs": [],
   "source": []
  },
  {
   "cell_type": "code",
   "execution_count": null,
   "metadata": {
    "collapsed": true
   },
   "outputs": [],
   "source": []
  },
  {
   "cell_type": "code",
   "execution_count": 55,
   "metadata": {
    "collapsed": false
   },
   "outputs": [
    {
     "data": {
      "text/plain": [
       "(array([-0.62820041]), array([-0.46785962]))"
      ]
     },
     "execution_count": 55,
     "metadata": {},
     "output_type": "execute_result"
    }
   ],
   "source": [
    "n_men = men_data.shape[0]\n",
    "n_women = women_data.shape[0]\n",
    "# get the slopes, start by getting x and targets for each class (men, women)\n",
    "x_men = np.array(men_data['cig_x'])[:, np.newaxis]\n",
    "t_men = np.array(men_data['life_exp'])[:, np.newaxis]\n",
    "x_women = np.array(women_data['cig_x'])[:, np.newaxis]\n",
    "t_women = np.array(women_data['life_exp'])[:, np.newaxis]\n",
    "# row 5 of http://i1.wp.com/www.real-statistics.com/wp-content/uploads/2012/12/Comparing-regression-line-slopes.png\n",
    "slope_men = trainLinear(x_men, t_men)[1]        # should be -0.6282\n",
    "slope_women = trainLinear(x_women, t_women)[1]  # should be -0.4679\n",
    "slope_men, slope_women"
   ]
  },
  {
   "cell_type": "code",
   "execution_count": 56,
   "metadata": {
    "collapsed": false
   },
   "outputs": [
    {
     "data": {
      "text/plain": [
       "(12.45448857698644, 13.851594372730768)"
      ]
     },
     "execution_count": 56,
     "metadata": {},
     "output_type": "execute_result"
    }
   ],
   "source": [
    "# row 7 of http://i1.wp.com/www.real-statistics.com/wp-content/uploads/2012/12/Comparing-regression-line-slopes.png\n",
    "s_x_men = np.std(x_men, ddof=1); s_x_women = np.std(x_women, ddof=1)\n",
    "s_x_men, s_x_women"
   ]
  },
  {
   "cell_type": "code",
   "execution_count": 57,
   "metadata": {
    "collapsed": false
   },
   "outputs": [
    {
     "data": {
      "text/plain": [
       "155.11428571428573"
      ]
     },
     "execution_count": 57,
     "metadata": {},
     "output_type": "execute_result"
    }
   ],
   "source": [
    "s_x_men**2  # should be top left element of cov matrix"
   ]
  },
  {
   "cell_type": "code",
   "execution_count": 58,
   "metadata": {
    "collapsed": false
   },
   "outputs": [
    {
     "data": {
      "text/plain": [
       "array([[ 155.11428571,  -97.44285714],\n",
       "       [ -97.44285714,  120.26666667]])"
      ]
     },
     "execution_count": 58,
     "metadata": {},
     "output_type": "execute_result"
    }
   ],
   "source": [
    "np.cov(x_men.T, t_men.T)  # r1, c1 element is correct"
   ]
  },
  {
   "cell_type": "code",
   "execution_count": 59,
   "metadata": {
    "collapsed": false
   },
   "outputs": [
    {
     "data": {
      "text/plain": [
       "(0.50898261372526732, 0.39057495080349064)"
      ]
     },
     "execution_count": 59,
     "metadata": {},
     "output_type": "execute_result"
    }
   ],
   "source": [
    "r2_men = np.corrcoef(x_men.T, t_men.T)[1][0]**2 # r=-0.71343 as shown in example, r^2=0.5090\n",
    "r2_women = np.corrcoef(x_women.T, t_women.T)[1][0]**2\n",
    "r2_men, r2_women"
   ]
  },
  {
   "cell_type": "code",
   "execution_count": 60,
   "metadata": {
    "collapsed": false
   },
   "outputs": [
    {
     "data": {
      "text/plain": [
       "(10.966616007988366, 10.369627122836514)"
      ]
     },
     "execution_count": 60,
     "metadata": {},
     "output_type": "execute_result"
    }
   ],
   "source": [
    "# std. dev. of the targets (longevity) for men and women\n",
    "s_y_men = np.std(t_men, ddof=1); s_y_women = np.std(t_women, ddof=1)\n",
    "s_y_men, s_y_women  # s_y_men=10.96662"
   ]
  },
  {
   "cell_type": "code",
   "execution_count": 61,
   "metadata": {
    "collapsed": false
   },
   "outputs": [
    {
     "data": {
      "text/plain": [
       "(7.9746827306891683, 8.3792452578993188)"
      ]
     },
     "execution_count": 61,
     "metadata": {},
     "output_type": "execute_result"
    }
   ],
   "source": [
    "# \n",
    "syx_men = s_y_men * np.sqrt((1-r2_men)*(n_men-1)/(n_men-2))  # 7.97468\n",
    "syx_women = s_y_women * np.sqrt((1-r2_women)*(n_women-1)/(n_women-2))\n",
    "syx_men, syx_women"
   ]
  },
  {
   "cell_type": "code",
   "execution_count": 62,
   "metadata": {
    "collapsed": false
   },
   "outputs": [
    {
     "data": {
      "text/plain": [
       "(0.17112895461639729, 0.15619225948227389)"
      ]
     },
     "execution_count": 62,
     "metadata": {},
     "output_type": "execute_result"
    }
   ],
   "source": [
    "sb_men = syx_men / (s_x_men * np.sqrt(n_men-1))\n",
    "sb_women = syx_women / (s_x_women * np.sqrt(n_women-1))\n",
    "sb_men, sb_women  # 0.171129, 0.156192"
   ]
  },
  {
   "cell_type": "markdown",
   "metadata": {
    "collapsed": true
   },
   "source": [
    "We now have everything we need to calculate the t-statistic which is:  \n",
    "\\begin{align*}\n",
    "t = \\frac{w_{1, men} - w_{1, women}}{\\sqrt{s_{w_{1, men}}^2 + s_{w_{1, women}}^2}}\n",
    "\\end{align*}\n",
    "Start with computing the standard error of this distribution which is the denominator of the above expression or:\n",
    "\\begin{align*}\n",
    "\\sqrt{s_{w_{1, men}}^2 + s_{w_{1, women}}^2}\n",
    "\\end{align*}"
   ]
  },
  {
   "cell_type": "code",
   "execution_count": 63,
   "metadata": {
    "collapsed": false
   },
   "outputs": [
    {
     "data": {
      "text/plain": [
       "0.23169190972124801"
      ]
     },
     "execution_count": 63,
     "metadata": {},
     "output_type": "execute_result"
    }
   ],
   "source": [
    "sdev_slope_diff = np.sqrt(sb_men**2 + sb_women**2)\n",
    "sdev_slope_diff  # 0.231692"
   ]
  },
  {
   "cell_type": "code",
   "execution_count": null,
   "metadata": {
    "collapsed": true
   },
   "outputs": [],
   "source": []
  },
  {
   "cell_type": "code",
   "execution_count": null,
   "metadata": {
    "collapsed": true
   },
   "outputs": [],
   "source": []
  },
  {
   "cell_type": "code",
   "execution_count": null,
   "metadata": {
    "collapsed": true
   },
   "outputs": [],
   "source": []
  },
  {
   "cell_type": "code",
   "execution_count": null,
   "metadata": {
    "collapsed": true
   },
   "outputs": [],
   "source": []
  }
 ],
 "metadata": {
  "kernelspec": {
   "display_name": "Python 3",
   "language": "python",
   "name": "python3"
  },
  "language_info": {
   "codemirror_mode": {
    "name": "ipython",
    "version": 3
   },
   "file_extension": ".py",
   "mimetype": "text/x-python",
   "name": "python",
   "nbconvert_exporter": "python",
   "pygments_lexer": "ipython3",
   "version": "3.5.1"
  }
 },
 "nbformat": 4,
 "nbformat_minor": 0
}
