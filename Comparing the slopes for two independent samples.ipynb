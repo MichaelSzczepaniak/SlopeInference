{
 "cells": [
  {
   "cell_type": "markdown",
   "metadata": {},
   "source": [
    "This anlysis is taken from:  \n",
    "http://www.real-statistics.com/regression/hypothesis-testing-significance-regression-line-slope/comparing-slopes-two-independent-samples/\n",
    "\n",
    "### Motivation\n",
    "This notebook is being created to get some practice with comparing the significance in the difference between the slopes of two regression lines.  The reference above was done in Excel.\n",
    "\n",
    "### Problem Statement and Definitions\n",
    "Start with two sets of data: logevity vs. number of cigarettes per day for two populations, one for men and one for women.  \n",
    "\n",
    "The test statistic is:  \n",
    "\\begin{align*}\n",
    "t = \\frac{w_{1, men} - w_{1, women}}{\\sqrt{s_{w_{1, men}}^2 + s_{w_{1, women}}^2}}\n",
    "\\end{align*}\n",
    "\n",
    "Let's start with a quick plot."
   ]
  },
  {
   "cell_type": "code",
   "execution_count": null,
   "metadata": {
    "collapsed": true
   },
   "outputs": [],
   "source": [
    "import pandas as pd, numpy as np\n"
   ]
  },
  {
   "cell_type": "code",
   "execution_count": null,
   "metadata": {
    "collapsed": true
   },
   "outputs": [],
   "source": []
  },
  {
   "cell_type": "code",
   "execution_count": null,
   "metadata": {
    "collapsed": true
   },
   "outputs": [],
   "source": []
  },
  {
   "cell_type": "code",
   "execution_count": null,
   "metadata": {
    "collapsed": true
   },
   "outputs": [],
   "source": []
  },
  {
   "cell_type": "code",
   "execution_count": null,
   "metadata": {
    "collapsed": true
   },
   "outputs": [],
   "source": []
  },
  {
   "cell_type": "code",
   "execution_count": null,
   "metadata": {
    "collapsed": true
   },
   "outputs": [],
   "source": []
  },
  {
   "cell_type": "code",
   "execution_count": 17,
   "metadata": {
    "collapsed": false
   },
   "outputs": [
    {
     "data": {
      "text/html": [
       "<div>\n",
       "<table border=\"1\" class=\"dataframe\">\n",
       "  <thead>\n",
       "    <tr style=\"text-align: right;\">\n",
       "      <th></th>\n",
       "      <th>cig_x</th>\n",
       "      <th>life_exp</th>\n",
       "    </tr>\n",
       "  </thead>\n",
       "  <tbody>\n",
       "    <tr>\n",
       "      <th>0</th>\n",
       "      <td>22</td>\n",
       "      <td>88</td>\n",
       "    </tr>\n",
       "    <tr>\n",
       "      <th>1</th>\n",
       "      <td>7</td>\n",
       "      <td>95</td>\n",
       "    </tr>\n",
       "    <tr>\n",
       "      <th>2</th>\n",
       "      <td>20</td>\n",
       "      <td>86</td>\n",
       "    </tr>\n",
       "    <tr>\n",
       "      <th>3</th>\n",
       "      <td>23</td>\n",
       "      <td>60</td>\n",
       "    </tr>\n",
       "    <tr>\n",
       "      <th>4</th>\n",
       "      <td>15</td>\n",
       "      <td>82</td>\n",
       "    </tr>\n",
       "  </tbody>\n",
       "</table>\n",
       "</div>"
      ],
      "text/plain": [
       "   cig_x  life_exp\n",
       "0     22        88\n",
       "1      7        95\n",
       "2     20        86\n",
       "3     23        60\n",
       "4     15        82"
      ]
     },
     "execution_count": 17,
     "metadata": {},
     "output_type": "execute_result"
    }
   ],
   "source": [
    "import pandas as pd, numpy as np\n",
    "men_data = pd.read_csv('men_cig_life_exp.csv')\n",
    "women_data = pd.read_csv('women_cig_life_exp.csv')\n",
    "women_data.head(5)"
   ]
  },
  {
   "cell_type": "code",
   "execution_count": null,
   "metadata": {
    "collapsed": true
   },
   "outputs": [],
   "source": []
  },
  {
   "cell_type": "code",
   "execution_count": 18,
   "metadata": {
    "collapsed": false
   },
   "outputs": [
    {
     "data": {
      "text/plain": [
       "(-0.62820040523112775, -0.4678596247393001)"
      ]
     },
     "execution_count": 18,
     "metadata": {},
     "output_type": "execute_result"
    }
   ],
   "source": [
    "def trainLinear(X, T, as_matrix=True):\n",
    "    \"\"\" Returns a (D+1, 1) column vector of weights for the linear regression of\n",
    "    T vs. X if as_matrix == True (default).  If as_matrix == False, a tuple of the\n",
    "    weights is returned.\n",
    "    \"\"\"\n",
    "    X1 = np.hstack((np.ones((len(X), 1)), X))  # N x 1 vector of 1's hstack with X\n",
    "    w = np.linalg.lstsq(np.dot(X1.T,X1), np.dot(X1.T, T))\n",
    "    if(not as_matrix):\n",
    "        return w[0][0][0], w[0][1][0]\n",
    "    else:\n",
    "        return w[0]\n",
    "\n",
    "def useLinear(x, w, transpose_weights=False):\n",
    "    if(transpose_weights):\n",
    "        return np.dot(x, w.T)\n",
    "    else:\n",
    "        return np.dot(x, w)\n",
    "\n",
    "#def getResidualVariance\n",
    "\n",
    "n_men = men_data.shape[0]\n",
    "n_women = women_data.shape[0]\n",
    "# get the slopes, start by getting x and targets for each class (men, women)\n",
    "x_men = np.array(men_data['cig_x'])[:, np.newaxis]\n",
    "t_men = np.array(men_data['life_exp'])[:, np.newaxis]\n",
    "x_women = np.array(women_data['cig_x'])[:, np.newaxis]\n",
    "t_women = np.array(women_data['life_exp'])[:, np.newaxis]\n",
    "# row 5 of http://i1.wp.com/www.real-statistics.com/wp-content/uploads/2012/12/Comparing-regression-line-slopes.png\n",
    "slope_men = trainLinear(x_men, t_men, False)[1]        # should be -0.6282\n",
    "slope_women = trainLinear(x_women, t_women, False)[1]  # should be -0.4679\n",
    "slope_men, slope_women"
   ]
  },
  {
   "cell_type": "code",
   "execution_count": 19,
   "metadata": {
    "collapsed": false
   },
   "outputs": [
    {
     "data": {
      "text/plain": [
       "(12.45448857698644, 13.851594372730768)"
      ]
     },
     "execution_count": 19,
     "metadata": {},
     "output_type": "execute_result"
    }
   ],
   "source": [
    "# row 7 of http://i1.wp.com/www.real-statistics.com/wp-content/uploads/2012/12/Comparing-regression-line-slopes.png\n",
    "s_x_men = np.std(x_men, ddof=1); s_x_women = np.std(x_women, ddof=1)\n",
    "s_x_men, s_x_women"
   ]
  },
  {
   "cell_type": "code",
   "execution_count": 20,
   "metadata": {
    "collapsed": false
   },
   "outputs": [
    {
     "data": {
      "text/plain": [
       "2.2666666666666666"
      ]
     },
     "execution_count": 20,
     "metadata": {},
     "output_type": "execute_result"
    }
   ],
   "source": [
    "#\n",
    "x = np.array([2.1, 2.5, 3.6, 4.0])\n",
    "y = np.array([8, 10, 12, 14])\n",
    "np.cov(x, y)[1][0]  # because cov returns the entire covariance matrix"
   ]
  },
  {
   "cell_type": "code",
   "execution_count": 21,
   "metadata": {
    "collapsed": false
   },
   "outputs": [
    {
     "data": {
      "text/plain": [
       "array([[ 155.11428571,  -97.44285714],\n",
       "       [ -97.44285714,  120.26666667]])"
      ]
     },
     "execution_count": 21,
     "metadata": {},
     "output_type": "execute_result"
    }
   ],
   "source": [
    "#x_men.shape, t_men.shape\n",
    "np.cov(x_men.T, t_men.T)"
   ]
  },
  {
   "cell_type": "code",
   "execution_count": 22,
   "metadata": {
    "collapsed": false
   },
   "outputs": [
    {
     "data": {
      "text/plain": [
       "0.50898261372526732"
      ]
     },
     "execution_count": 22,
     "metadata": {},
     "output_type": "execute_result"
    }
   ],
   "source": [
    "r2 = np.corrcoef(x_men.T, t_men.T)[1][0]**2 # r=-0.71343 as shown in example, r^2=0.5090\n",
    "r2"
   ]
  },
  {
   "cell_type": "code",
   "execution_count": 23,
   "metadata": {
    "collapsed": false
   },
   "outputs": [
    {
     "data": {
      "text/plain": [
       "(10.966616007988366, 10.369627122836514)"
      ]
     },
     "execution_count": 23,
     "metadata": {},
     "output_type": "execute_result"
    }
   ],
   "source": [
    "s_y_men = np.std(t_men, ddof=1); s_y_women = np.std(t_women, ddof=1)\n",
    "s_y_men, s_y_women  # s_y_men=10.96662"
   ]
  },
  {
   "cell_type": "code",
   "execution_count": 25,
   "metadata": {
    "collapsed": false
   },
   "outputs": [
    {
     "data": {
      "text/plain": [
       "7.9746827306891683"
      ]
     },
     "execution_count": 25,
     "metadata": {},
     "output_type": "execute_result"
    }
   ],
   "source": [
    "syx_men = s_y_men * np.sqrt((1-r2)*(n_men-1)/(n_men-2))\n",
    "syx_men  # 7.97468"
   ]
  },
  {
   "cell_type": "code",
   "execution_count": 27,
   "metadata": {
    "collapsed": false
   },
   "outputs": [
    {
     "data": {
      "text/plain": [
       "0.17112895461639729"
      ]
     },
     "execution_count": 27,
     "metadata": {},
     "output_type": "execute_result"
    }
   ],
   "source": [
    "sb_men = syx_men / (s_x_men * np.sqrt(n_men-1))\n",
    "sb_men  # 0.171129"
   ]
  },
  {
   "cell_type": "code",
   "execution_count": null,
   "metadata": {
    "collapsed": true
   },
   "outputs": [],
   "source": []
  },
  {
   "cell_type": "code",
   "execution_count": null,
   "metadata": {
    "collapsed": true
   },
   "outputs": [],
   "source": []
  },
  {
   "cell_type": "code",
   "execution_count": null,
   "metadata": {
    "collapsed": true
   },
   "outputs": [],
   "source": []
  },
  {
   "cell_type": "code",
   "execution_count": null,
   "metadata": {
    "collapsed": true
   },
   "outputs": [],
   "source": []
  },
  {
   "cell_type": "code",
   "execution_count": null,
   "metadata": {
    "collapsed": true
   },
   "outputs": [],
   "source": []
  },
  {
   "cell_type": "code",
   "execution_count": null,
   "metadata": {
    "collapsed": true
   },
   "outputs": [],
   "source": []
  }
 ],
 "metadata": {
  "kernelspec": {
   "display_name": "Python 3",
   "language": "python",
   "name": "python3"
  },
  "language_info": {
   "codemirror_mode": {
    "name": "ipython",
    "version": 3
   },
   "file_extension": ".py",
   "mimetype": "text/x-python",
   "name": "python",
   "nbconvert_exporter": "python",
   "pygments_lexer": "ipython3",
   "version": "3.5.1"
  }
 },
 "nbformat": 4,
 "nbformat_minor": 0
}
